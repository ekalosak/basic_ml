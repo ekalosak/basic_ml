{
 "cells": [
  {
   "cell_type": "code",
   "execution_count": 9,
   "metadata": {},
   "outputs": [
    {
     "name": "stdout",
     "output_type": "stream",
     "text": [
      "sys.version_info(major=2, minor=7, micro=10, releaselevel='final', serial=0)\n"
     ]
    }
   ],
   "source": [
    "import sys, random\n",
    "print(sys.version_info)\n",
    "seed = 33\n",
    "random.seed(seed)"
   ]
  },
  {
   "cell_type": "code",
   "execution_count": 3,
   "metadata": {},
   "outputs": [
    {
     "name": "stderr",
     "output_type": "stream",
     "text": [
      "Using Theano backend.\n"
     ]
    }
   ],
   "source": [
    "import sklearn as sk\n",
    "import pandas as pd\n",
    "import numpy as np\n",
    "import keras as ks"
   ]
  },
  {
   "cell_type": "code",
   "execution_count": 7,
   "metadata": {
    "collapsed": true
   },
   "outputs": [],
   "source": [
    "## Load and clean the Iris data\n",
    "\n",
    "from sklearn import datasets\n",
    "\n",
    "iris = datasets.load_iris()\n",
    "\n",
    "X = iris.data\n",
    "y = iris.target\n",
    "\n",
    "df = pd.DataFrame(data = np.column_stack((X, y)))\n",
    "df.columns = [\"Sepal length\", \"Sepal width\", \"Petal length\", \"Petal width\", \"Species\"]\n",
    "df[\"Species\"] = df[\"Species\"].astype('category')\n",
    "df[\"Species\"].cat.categories = iris.target_names"
   ]
  },
  {
   "cell_type": "code",
   "execution_count": 16,
   "metadata": {},
   "outputs": [
    {
     "data": {
      "text/html": [
       "<div>\n",
       "<style>\n",
       "    .dataframe thead tr:only-child th {\n",
       "        text-align: right;\n",
       "    }\n",
       "\n",
       "    .dataframe thead th {\n",
       "        text-align: left;\n",
       "    }\n",
       "\n",
       "    .dataframe tbody tr th {\n",
       "        vertical-align: top;\n",
       "    }\n",
       "</style>\n",
       "<table border=\"1\" class=\"dataframe\">\n",
       "  <thead>\n",
       "    <tr style=\"text-align: right;\">\n",
       "      <th></th>\n",
       "      <th>Sepal length</th>\n",
       "      <th>Sepal width</th>\n",
       "      <th>Petal length</th>\n",
       "      <th>Petal width</th>\n",
       "      <th>Species</th>\n",
       "    </tr>\n",
       "  </thead>\n",
       "  <tbody>\n",
       "    <tr>\n",
       "      <th>0</th>\n",
       "      <td>5.1</td>\n",
       "      <td>3.5</td>\n",
       "      <td>1.4</td>\n",
       "      <td>0.2</td>\n",
       "      <td>setosa</td>\n",
       "    </tr>\n",
       "    <tr>\n",
       "      <th>1</th>\n",
       "      <td>4.9</td>\n",
       "      <td>3.0</td>\n",
       "      <td>1.4</td>\n",
       "      <td>0.2</td>\n",
       "      <td>setosa</td>\n",
       "    </tr>\n",
       "    <tr>\n",
       "      <th>2</th>\n",
       "      <td>4.7</td>\n",
       "      <td>3.2</td>\n",
       "      <td>1.3</td>\n",
       "      <td>0.2</td>\n",
       "      <td>setosa</td>\n",
       "    </tr>\n",
       "    <tr>\n",
       "      <th>3</th>\n",
       "      <td>4.6</td>\n",
       "      <td>3.1</td>\n",
       "      <td>1.5</td>\n",
       "      <td>0.2</td>\n",
       "      <td>setosa</td>\n",
       "    </tr>\n",
       "    <tr>\n",
       "      <th>4</th>\n",
       "      <td>5.0</td>\n",
       "      <td>3.6</td>\n",
       "      <td>1.4</td>\n",
       "      <td>0.2</td>\n",
       "      <td>setosa</td>\n",
       "    </tr>\n",
       "  </tbody>\n",
       "</table>\n",
       "</div>"
      ],
      "text/plain": [
       "   Sepal length  Sepal width  Petal length  Petal width Species\n",
       "0           5.1          3.5           1.4          0.2  setosa\n",
       "1           4.9          3.0           1.4          0.2  setosa\n",
       "2           4.7          3.2           1.3          0.2  setosa\n",
       "3           4.6          3.1           1.5          0.2  setosa\n",
       "4           5.0          3.6           1.4          0.2  setosa"
      ]
     },
     "execution_count": 16,
     "metadata": {},
     "output_type": "execute_result"
    }
   ],
   "source": [
    "df.head()"
   ]
  },
  {
   "cell_type": "markdown",
   "metadata": {
    "collapsed": true
   },
   "source": [
    "The cannonical problem here is to predict the species given the phenotypic measurements. I'll use some traditional machne learning methods to do this, inluding neural networks, random forests, and a support vector machine. I'll tune  hyperparameters using cross validation in the support vector machine and out of bag error in the random forest. Finally, I'll provide standard performance metrics for each method to compare their efficacy."
   ]
  },
  {
   "cell_type": "code",
   "execution_count": 31,
   "metadata": {},
   "outputs": [],
   "source": [
    "### Let's start with the SVM\n",
    "\n",
    "## Imports\n",
    "from sklearn.model_selection import train_test_split\n",
    "from sklearn.model_selection import GridSearchCV\n",
    "from sklearn.metrics import classification_report\n",
    "from sklearn.svm import SVC\n",
    "\n",
    "## Parameters\n",
    "test_size = 0.3\n",
    "cv = 5 # number of folds in cv-fold cross validation\n",
    "\n",
    "## Create split train and test sets\n",
    "X_train_svm, X_test_svm, y_train_svm, y_test_svm = train_test_split(\n",
    "    X, y, test_size=test_size, random_state=seed)\n",
    "\n",
    "## Define parameter grid to search over\n",
    "param_grid = [\n",
    "    {'kernel': ['rbf'], 'gamma': np.logspace(-4, -2, 3), 'C': np.logspace(0, 3, 4)},\n",
    "    {'kernel': ['linear'], 'C': np.logspace(0, 3, 4)}\n",
    "]\n",
    "\n",
    "## Find the best hyperparameters and fit the model using them\n",
    "gcv_svm = GridSearchCV(SVC(probability=True), param_grid, cv=cv)\n",
    "gcv_svm.fit(X_train_svm, y_train_svm) # There are only 150 observations so this is instantaneous\n",
    "\n",
    "svm = gcv_svm.best_estimator_\n",
    "\n",
    "## Sources\n",
    "# http://scikit-learn.org/stable/auto_examples/model_selection/grid_search_digits.html"
   ]
  },
  {
   "cell_type": "code",
   "execution_count": 27,
   "metadata": {},
   "outputs": [],
   "source": [
    "### Continuing with the random forest\n",
    "\n",
    "## Imports\n",
    "from sklearn.ensemble import RandomForestClassifier\n",
    "\n",
    "## Parameters\n",
    "test_size = 0.3\n",
    "nest = 7 # number of decision trees to use in the boosted classifier\n",
    "\n",
    "## Create split train and test sets\n",
    "X_train_rf, X_test_rf, y_train_rf, y_test_rf = train_test_split(\n",
    "    X, y, test_size=test_size, random_state=seed)\n",
    "\n",
    "## Use out of bag error to train the random forest\n",
    "rf = RandomForestClassifier(n_estimators=nest)\n",
    "_ = rf.fit(X_train_rf, y_train_rf) # Using out of bag error\n",
    "\n",
    "## Sources\n",
    "# http://scikit-learn.org/stable/modules/generated/sklearn.ensemble.RandomForestClassifier.html"
   ]
  },
  {
   "cell_type": "code",
   "execution_count": 28,
   "metadata": {},
   "outputs": [],
   "source": [
    "### Finally, I'll train a nueral network\n",
    "\n",
    "## Imports\n",
    "from keras.layers import Input, Embedding, LSTM, Dense, Dropout\n",
    "from keras.models import Model, Sequential\n",
    "from keras.utils.np_utils import to_categorical\n",
    "\n",
    "## Parameters\n",
    "test_size = 0.3\n",
    "\n",
    "## Create split train and test sets\n",
    "X_train_nn, X_test_nn, y_train_nn, y_test_nn = train_test_split(\n",
    "    X, y, test_size=test_size, random_state=seed)\n",
    "\n",
    "## Create a shallow, simple architecture for the neural network\n",
    "nn = Sequential()\n",
    "nn.add(Dense(3, input_dim=np.shape(X)[1], activation='sigmoid'))\n",
    "nn.add(Dense(1, activation='sigmoid'))\n",
    "nn.compile(loss='binary_crossentropy', optimizer='adam', metrics=['accuracy'])\n",
    "\n",
    "## Fit the model with backpropagation\n",
    "_ = nn.fit(X_train_nn, y_train_nn, epochs=10, batch_size=32, verbose=0)\n",
    "\n",
    "## Sources\n",
    "# http://machinelearningmastery.com/tutorial-first-neural-network-python-keras/"
   ]
  },
  {
   "cell_type": "markdown",
   "metadata": {},
   "source": [
    "Now that I've fit the three canonical models, I'll gauge their performance using two standard metrics: ROC and precision-recall, acknowledging the omission of confusion matricies."
   ]
  },
  {
   "cell_type": "code",
   "execution_count": 35,
   "metadata": {},
   "outputs": [
    {
     "name": "stdout",
     "output_type": "stream",
     "text": [
      "[1 1 0 1 2 2 0 0 2 2 2 0 2 1 2 1 2 0 1 2 0 0 2 0 2 2 1 1 2 2 1 1 2 2 2 2 2\n",
      " 1 1 0 1 1 1 0 0]\n",
      "[1 1 0 1 2 2 0 0 2 2 2 0 2 1 2 1 2 0 1 2 0 0 2 0 2 2 1 1 2 2 1 1 2 2 2 2 2\n",
      " 1 1 0 1 1 1 0 0]\n",
      "32/45 [====================>.........] - ETA: 0s[1 1 0 1 2 2 0 0 2 2 2 0 2 1 2 1 2 0 1 2 0 0 2 0 2 2 1 1 2 2 1 1 2 2 2 2 2\n",
      " 1 1 0 1 1 1 0 0]\n"
     ]
    },
    {
     "ename": "IndexError",
     "evalue": "index 1 is out of bounds for axis 1 with size 1",
     "output_type": "error",
     "traceback": [
      "\u001b[0;31m---------------------------------------------------------------------------\u001b[0m",
      "\u001b[0;31mIndexError\u001b[0m                                Traceback (most recent call last)",
      "\u001b[0;32m<ipython-input-35-8f606ee7a344>\u001b[0m in \u001b[0;36m<module>\u001b[0;34m()\u001b[0m\n\u001b[1;32m     14\u001b[0m     \u001b[0mprobs\u001b[0m \u001b[0;34m=\u001b[0m \u001b[0mmodel\u001b[0m\u001b[0;34m.\u001b[0m\u001b[0mpredict_proba\u001b[0m\u001b[0;34m(\u001b[0m\u001b[0mxs\u001b[0m\u001b[0;34m)\u001b[0m\u001b[0;34m\u001b[0m\u001b[0m\n\u001b[1;32m     15\u001b[0m     \u001b[0;32mprint\u001b[0m\u001b[0;34m(\u001b[0m\u001b[0mys\u001b[0m\u001b[0;34m)\u001b[0m\u001b[0;34m\u001b[0m\u001b[0m\n\u001b[0;32m---> 16\u001b[0;31m     \u001b[0mprob1\u001b[0m \u001b[0;34m=\u001b[0m \u001b[0mprobs\u001b[0m\u001b[0;34m[\u001b[0m\u001b[0;34m:\u001b[0m\u001b[0;34m,\u001b[0m\u001b[0;36m1\u001b[0m\u001b[0;34m]\u001b[0m\u001b[0;34m\u001b[0m\u001b[0m\n\u001b[0m\u001b[1;32m     17\u001b[0m \u001b[0;34m\u001b[0m\u001b[0m\n\u001b[1;32m     18\u001b[0m     \u001b[0;31m## Calculate ROC, Precis-Recall, and conf mx for each classifier\u001b[0m\u001b[0;34m\u001b[0m\u001b[0;34m\u001b[0m\u001b[0m\n",
      "\u001b[0;31mIndexError\u001b[0m: index 1 is out of bounds for axis 1 with size 1"
     ]
    }
   ],
   "source": [
    "from sklearn.metrics import classification_report, precision_recall_curve, roc_curve\n",
    "\n",
    "models = [svm, rf, nn]\n",
    "names = [\"SVM\", \"RF\", \"NN\"]\n",
    "test_xs = [X_test_svm, X_test_rf, X_test_nn]\n",
    "test_ys = [y_test_svm, y_test_rf, y_test_nn]\n",
    "\n",
    "conf_mxs = []\n",
    "df_pr = pd.DataFrame(columns=[\"Strong Learner\", \"pre\", \"rec\"])\n",
    "df_roc = pd.DataFrame(columns=[\"Strong Learner\", \"tpr\", \"fpr\"])\n",
    "\n",
    "for model, name, xs, ys in zip(models, names, test_xs, test_ys):\n",
    "    \n",
    "    probs = model.predict_proba(xs)\n",
    "    print(ys)\n",
    "    prob1 = probs[:,1]\n",
    "\n",
    "    ## Calculate ROC, Precis-Recall, and conf mx for each classifier\n",
    "    fpr, tpr, _ = roc_curve(ys, prob1, pos_label=1)\n",
    "    pre, rec, _ = precision_recall_curve(ys, prob1, pos_label=1)\n",
    "    \n",
    "    data_pr = {\"Strong Learner\": np.repeat(name, len(pre)),\n",
    "               \"pre\": pre,\n",
    "               \"rec\": rec}\n",
    "    data_roc = {\"Strong Learner\": np.repeat(name, len(fpr)),\n",
    "               \"fpr\": fpr,\n",
    "               \"tpr\": tpr}\n",
    "    \n",
    "    df_pr = df_pr.append(pd.DataFrame(data=data_pr))\n",
    "    df_roc = df_roc.append(pd.DataFrame(data=data_roc))"
   ]
  },
  {
   "cell_type": "code",
   "execution_count": null,
   "metadata": {
    "collapsed": true
   },
   "outputs": [],
   "source": [
    "from ggplot import *\n",
    "\n",
    "## Plot PR, ROC, CMs\n",
    "plt_roc = ggplot(aes(x='fpr',y='tpr',color='Strong Learner'), data=df_roc) +\\\n",
    "    geom_line() +\\\n",
    "    labs(x='False positive rate', y='True positive rate', title='ROC curves for multiple methods')\n",
    "plt_roc.show()\n",
    "\n",
    "plt_pr = ggplot(aes(x='rec',y='pre',color='Strong Learner'), data=df_pr) +\\\n",
    "    geom_line() +\\\n",
    "    labs(x='Recall', y='Precision', title='Precision-Recall curves for multiple methods')\n",
    "plt_pr.show()"
   ]
  }
 ],
 "metadata": {
  "anaconda-cloud": {},
  "kernelspec": {
   "display_name": "Python 2",
   "language": "python",
   "name": "python2"
  },
  "language_info": {
   "codemirror_mode": {
    "name": "ipython",
    "version": 2
   },
   "file_extension": ".py",
   "mimetype": "text/x-python",
   "name": "python",
   "nbconvert_exporter": "python",
   "pygments_lexer": "ipython2",
   "version": "2.7.10"
  }
 },
 "nbformat": 4,
 "nbformat_minor": 2
}
